{
 "cells": [
  {
   "cell_type": "markdown",
   "metadata": {},
   "source": [
    "![alt text](https://zewailcity.edu.eg/main/images/logo3.png)\n",
    "# Math 404 report 1\n",
    "### Ezzat Esam Eisawy  201901195"
   ]
  },
  {
   "cell_type": "markdown",
   "metadata": {},
   "source": [
    "#### Imports"
   ]
  },
  {
   "cell_type": "code",
   "execution_count": 22,
   "metadata": {},
   "outputs": [],
   "source": [
    "import numpy as np\n",
    "from numpy import array\n",
    "from pulp import LpMaximize, LpMinimize, LpProblem, LpStatus, lpSum, LpVariable\n"
   ]
  },
  {
   "cell_type": "markdown",
   "metadata": {},
   "source": [
    "#### Functions"
   ]
  },
  {
   "cell_type": "code",
   "execution_count": 23,
   "metadata": {},
   "outputs": [],
   "source": [
    "def _simplex_iterate(a : np.array ,c : np.array , basic_vars : list , nbasic_vars : list , B : np.array):\n",
    "    \"\"\" The simplex iteration function. \n",
    "    updates the basic and non basic variables, used for both phases\n",
    "    INTERNAL USE ONLY\n",
    "    \"\"\"    \n",
    "\n",
    "    iterations = 0\n",
    "    while 1 :\n",
    "\n",
    "        b = a[:,basic_vars]    # basis\n",
    "        Cb = c[basic_vars]     \n",
    "\n",
    "        b_inv = np.linalg.inv(b)   # normal inversion, can be optimized\n",
    "        Xb = b_inv@B\n",
    "\n",
    "        z_c =  Cb@b_inv@a[:,nbasic_vars] - c[nbasic_vars]    \n",
    "\n",
    "        if any(z_c<0):   # optimality condition not met\n",
    "            entering_var_idx = np.argmin(z_c)\n",
    "\n",
    "        else : \n",
    "            break\n",
    "        y_entering_var = b_inv@a[:,nbasic_vars[entering_var_idx]]\n",
    "        \n",
    "\n",
    "        with np.errstate(divide='ignore'):   # ignore divide by zero message\n",
    "            ratio = (Xb / y_entering_var)\n",
    "        \n",
    "        non_negative_idcs = np.where(y_entering_var > 0)[0]\n",
    "\n",
    "        if len(non_negative_idcs) > 0:\n",
    "            leaving_var_idx =  non_negative_idcs[np.argmin(ratio[non_negative_idcs])]\n",
    "\n",
    "        else:                   # no positive ratios\n",
    "            return None         # failure\n",
    "        \n",
    "\n",
    "        # swap leaving basic and entering non basic variables \n",
    "        basic_vars[leaving_var_idx] , nbasic_vars[entering_var_idx] = nbasic_vars[entering_var_idx] , basic_vars[leaving_var_idx]\n",
    "\n",
    "        iterations += 1\n",
    "\n",
    "    return basic_vars , nbasic_vars , iterations \n",
    "\n",
    "\n",
    "def lin_prog(C :np.array , A : np.array = []  ,    B : np.array = []  ,E : np.array = [],  B_e : np.array = [] ,minimize = False ) -> dict :\n",
    "    \"\"\" Solves a LLP problem in the form \n",
    "    Max Cx,\n",
    "    subject to\n",
    "    Ax <= b\n",
    "    Ex = B_e\n",
    "    x >= 0\n",
    "\n",
    "    Args:\n",
    "        C (np.array): Coefficients of the objective function\n",
    "        A (np.array, optional): Coefficients of the inequality constraints\n",
    "        E (np.array, optional): Coefficients of the equality constraints. Defaults to None.\n",
    "        B (np.array, optional): Right-hand side of the inequality constraints\n",
    "        B_e (np.array, optional): Right-hand side of the equality constraints. Defaults to None.\n",
    "    Returns:\n",
    "        dict: Solution of the problem with \"status\" key. If the status is \"SUCCESS\", it also contains the following keys:\n",
    "            - optimal_value (float): Optimal value of the objective function\n",
    "            - variables (dict): Dictionary of variables and their values\n",
    "            - iterations (int): Number of iterations performed\n",
    "    \"\"\"    \n",
    "\n",
    "\n",
    "    # def expand_constraints(a : np.array) :\n",
    "    #     a = np.hstack((a, np.diag(np.ones(len_slacks))))\n",
    "    #     c = np.hstack((C,np.zeros(len_slacks)))\n",
    "    #     return a , c\n",
    "\n",
    "\n",
    "    iterations = 0\n",
    "    if minimize :\n",
    "        C *= -1\n",
    "    if not  len(E)  and len(B) and  np.all(B > 0) :    # single phase\n",
    "        len_slacks = len(A)\n",
    "        \n",
    "        a , c  = np.hstack((A, np.diag(np.ones(len_slacks)))) , np.hstack((C,np.zeros(len_slacks)))\n",
    "        len_xs = len(C)\n",
    "        basic_vars = [i for i in range(len_xs , len_xs  + len_slacks )]\n",
    "        nbasic_vars = [i for i in range(len_xs)]\n",
    "\n",
    "    else :    # two phase \n",
    "\n",
    "        len_slacks = len(A)\n",
    "        len_xs = len(C)\n",
    "        len_equalities = len(E)\n",
    "\n",
    "        artificial_vars_locs = []\n",
    "        diag = []\n",
    "        for i in range(len_slacks):\n",
    "            if B[i] < 0:\n",
    "                B[i] *=-1\n",
    "                A[i] *= -1\n",
    "                artificial_vars_locs.append(i)\n",
    "                diag.append(-1)\n",
    "            else :\n",
    "                diag.append(1)\n",
    "\n",
    "        for i in range(len(E)) :\n",
    "            if B_e[i] < 0:\n",
    "                B_e[i] *=-1\n",
    "                E[i] *= -1\n",
    "            artificial_vars_locs.append(i + len_slacks)\n",
    "            \n",
    "            \n",
    "\n",
    "        len_avs = len(artificial_vars_locs)\n",
    "        artificial_vars = np.zeros(shape = (len_slacks + len_equalities ,len(artificial_vars_locs)) )\n",
    "        \n",
    "        # create the Avs matrix to be concatenated with the constraints\n",
    "        for i , idx in enumerate(artificial_vars_locs):\n",
    "            artificial_vars[idx , i] = 1\n",
    "\n",
    "\n",
    "        if len(E) and len(A) :   # both inequality and equality\n",
    "            padded_zeros = np.zeros(shape = ( len_equalities , len_slacks))\n",
    "            a_temp  = np.hstack(( np.vstack((A,E))      , np.vstack((np.diag(diag),padded_zeros)) , )) \n",
    "            B = np.hstack((B,B_e))\n",
    "        elif len(E) :            # only equality\n",
    "            a_temp  = E \n",
    "            B = B_e\n",
    "        elif len(A) :            # only inequality\n",
    "            a_temp   = np.hstack((A, np.diag(diag))) \n",
    "        else :\n",
    "            raise ValueError(\"No constraints\")\n",
    "        \n",
    "        a = np.hstack((a_temp,artificial_vars))\n",
    "        \n",
    "        c_old_fun = np.hstack((C,np.zeros(len_slacks)))\n",
    "        c = np.hstack((np.zeros(len_slacks + len_xs ) ,-np.ones(len_avs)))\n",
    "        all_vars = [i for i in range(len_slacks + len_xs + len_avs)] \n",
    "\n",
    "        basic_vars = []\n",
    "        nbasic_vars = []\n",
    "        \n",
    "        # get the basic variables\n",
    "        for i , var in enumerate(all_vars[:-len(artificial_vars_locs)]):\n",
    "            if i >= len_xs and  diag[i - len_xs] == 1:\n",
    "                basic_vars.append(var)\n",
    "            else :\n",
    "                nbasic_vars.append(var)\n",
    "        basic_vars += [i for i in range(len_slacks + len_xs , len_slacks + len_xs + len_avs)]\n",
    "\n",
    "\n",
    "        results = _simplex_iterate(a ,c , basic_vars , nbasic_vars , B)\n",
    "\n",
    "        if results  is not None:\n",
    "            basic_vars , nbasic_vars , iterations = results\n",
    "\n",
    "            # to compute the value of z\n",
    "            b = a[:,basic_vars]\n",
    "            Cb = c[basic_vars]\n",
    "            b_inv = np.linalg.inv(b)\n",
    "\n",
    "            Xb = b_inv@B\n",
    "            z_val = Cb@b_inv@B\n",
    "\n",
    "            \n",
    "            if z_val != 0:   # must be 0\n",
    "                return {\n",
    "                    \"status\" : \"FAILURE\",\n",
    "                    \"message\" : \"no feasible starting point\"\n",
    "                }\n",
    "\n",
    "            # remove avs from A\n",
    "            a = a[:,:-len_avs]\n",
    "\n",
    "            # remove avs from non basic vars\n",
    "            nbasic_vars_temp = nbasic_vars.copy()\n",
    "            for val in nbasic_vars_temp:\n",
    "                if val in list(range(len_slacks + len_xs , len_slacks + len_xs+ len_avs)):\n",
    "                    nbasic_vars.remove(val)\n",
    "                \n",
    "            \n",
    "            # reset to old function\n",
    "            c = c_old_fun\n",
    "            \n",
    "            \n",
    "        else :\n",
    "            return {\n",
    "                \"status\" : \"FAILURE\",\n",
    "                \"message\" : \"no feasible starting point\"\n",
    "            }\n",
    "\n",
    "        \n",
    "   \n",
    "    # the traditional phase step\n",
    "    results = _simplex_iterate(a ,c , basic_vars , nbasic_vars , B)\n",
    "\n",
    "    if results is not None:\n",
    "        basic_vars , nbasic_vars , iterations2 = results\n",
    "        b = a[:,basic_vars]\n",
    "        Cb = c[basic_vars]\n",
    "        b_inv = np.linalg.inv(b)\n",
    "        Xb = b_inv@B\n",
    "        z_val = Cb@b_inv@B\n",
    "        if minimize:    \n",
    "            z_val *= -1\n",
    "        values = {}\n",
    "        for i , v in enumerate(basic_vars):\n",
    "            values[f\"x{v+1}\"] = Xb[i]\n",
    "        for i , v in enumerate(nbasic_vars):\n",
    "            values[f\"x{v+1}\"] = 0\n",
    "        values = dict(sorted(values.items()))\n",
    "\n",
    "        \n",
    "\n",
    "        return {\n",
    "            \"status\" : \"SUCCESS\",\n",
    "            \"iterations\" : iterations + iterations2,\n",
    "            \"variables\" : values,\n",
    "            \"optimal_value\" : z_val\n",
    "        }\n",
    "    \n",
    "    return {\n",
    "        \"status\" : \"FAILURE\",\n",
    "        \"message\" : \"unbounded\"\n",
    "    }\n",
    "    "
   ]
  },
  {
   "cell_type": "markdown",
   "metadata": {},
   "source": [
    "#### Examples"
   ]
  },
  {
   "cell_type": "markdown",
   "metadata": {},
   "source": [
    "#### Example 1\n",
    "**Objective Function:**\n",
    "$$ \\text{Maximize } Z = 2x_1 + x_2 $$\n",
    "\n",
    "**Constraints:**\n",
    "$$ 3x_1 + 4x_2 \\leq 6 $$\n",
    "$$ 6x_1 + x_2 \\leq 3 $$\n",
    "\n",
    "**Non-negativity Constraints:**\n",
    "$$ x_1 \\geq 0 $$\n",
    "$$ x_2 \\geq 0 $$\n"
   ]
  },
  {
   "cell_type": "markdown",
   "metadata": {},
   "source": [
    "##### Using my implementation"
   ]
  },
  {
   "cell_type": "code",
   "execution_count": 24,
   "metadata": {},
   "outputs": [
    {
     "data": {
      "text/plain": [
       "{'status': 'SUCCESS',\n",
       " 'iterations': 2,\n",
       " 'variables': {'x1': 0.2857142857142857,\n",
       "  'x2': 1.2857142857142856,\n",
       "  'x3': 0,\n",
       "  'x4': 0},\n",
       " 'optimal_value': 1.857142857142857}"
      ]
     },
     "execution_count": 24,
     "metadata": {},
     "output_type": "execute_result"
    }
   ],
   "source": [
    "C = array([2,1])\n",
    "A = array([[3,4],[6,1]])\n",
    "b = array([6,3])\n",
    "\n",
    "lin_prog(C,A,b)"
   ]
  },
  {
   "cell_type": "markdown",
   "metadata": {},
   "source": [
    "##### Using pulp"
   ]
  },
  {
   "cell_type": "code",
   "execution_count": 25,
   "metadata": {},
   "outputs": [
    {
     "name": "stdout",
     "output_type": "stream",
     "text": [
      "Status: 1\n",
      "Optimal values:\n",
      "x1 = 0.28571429\n",
      "x2 = 1.2857143\n",
      "Optimal objective function value (Z) = 1.85714288\n"
     ]
    }
   ],
   "source": [
    "# Create a linear programming problem\n",
    "prob = LpProblem(\"Maximize_Z\", LpMaximize)\n",
    "\n",
    "# Define decision variables\n",
    "x1 = LpVariable(\"x1\", lowBound=0)  # x1 >= 0\n",
    "x2 = LpVariable(\"x2\", lowBound=0)  # x2 >= 0\n",
    "\n",
    "# Define the objective function\n",
    "prob += 2 * x1 + x2, \"Z\"\n",
    "\n",
    "# Define constraints\n",
    "prob += 3 * x1 + 4 * x2 <= 6, \"Constraint1\"\n",
    "prob += 6 * x1 + x2 <= 3, \"Constraint2\"\n",
    "\n",
    "# Solve the problem\n",
    "prob.solve()\n",
    "\n",
    "# Display the results\n",
    "print(\"Status:\", prob.status)\n",
    "print(\"Optimal values:\")\n",
    "print(\"x1 =\", x1.value())\n",
    "print(\"x2 =\", x2.value())\n",
    "print(\"Optimal objective function value (Z) =\", prob.objective.value())\n"
   ]
  },
  {
   "cell_type": "markdown",
   "metadata": {},
   "source": [
    "#### Example 2\n",
    "**Objective Function:**\n",
    "$$ \\text{Minimize } Z = 2x_1 + 4x_2 $$\n",
    "\n",
    "**Constraints:**\n",
    "$$ x_1 + x_2 \\leq 8 $$\n",
    "$$ 6x_1 + 4x_2 \\geq 12 $$\n",
    "$$ x_1 + 4x_2 = 20 $$\n",
    "\n",
    "**Non-negativity Constraints:**\n",
    "$$ x_1 \\geq 0 $$\n",
    "$$ x_2 \\geq 0 $$\n"
   ]
  },
  {
   "cell_type": "markdown",
   "metadata": {},
   "source": [
    "##### Using my implementation"
   ]
  },
  {
   "cell_type": "code",
   "execution_count": 26,
   "metadata": {},
   "outputs": [
    {
     "data": {
      "text/plain": [
       "{'status': 'SUCCESS',\n",
       " 'iterations': 2,\n",
       " 'variables': {'x1': 0, 'x2': 5.0, 'x3': 3.0, 'x4': 8.0},\n",
       " 'optimal_value': 20.0}"
      ]
     },
     "execution_count": 26,
     "metadata": {},
     "output_type": "execute_result"
    }
   ],
   "source": [
    "C = array([2,4])\n",
    "\n",
    "A = array([\n",
    "    [1,1],\n",
    "    [-6,-4]\n",
    "])\n",
    "\n",
    "B = array([8,-12])\n",
    "\n",
    "E = array([[1,4]])\n",
    "\n",
    "B_e = array([20])\n",
    "\n",
    "lin_prog(C , A , B, E , B_e , minimize= True)"
   ]
  },
  {
   "cell_type": "markdown",
   "metadata": {},
   "source": [
    "##### Using pulp"
   ]
  },
  {
   "cell_type": "code",
   "execution_count": 27,
   "metadata": {},
   "outputs": [
    {
     "name": "stdout",
     "output_type": "stream",
     "text": [
      "Status: 1\n",
      "Optimal values:\n",
      "x1 = 0.0\n",
      "x2 = 5.0\n",
      "Optimal objective function value (Z) = 20.0\n"
     ]
    }
   ],
   "source": [
    "# Create a linear programming problem\n",
    "prob = LpProblem(\"Minimize_Z\", LpMinimize)\n",
    "\n",
    "# Define decision variables\n",
    "x1 = LpVariable(\"x1\", lowBound=0)  # x1 >= 0\n",
    "x2 = LpVariable(\"x2\", lowBound=0)  # x2 >= 0\n",
    "\n",
    "# Define the objective function\n",
    "prob += 2 * x1 + 4 * x2, \"Z\"\n",
    "\n",
    "# Define constraints\n",
    "prob += x1 + x2 <= 8, \"Constraint1\"\n",
    "prob += 6 * x1 + 4 * x2 >= 12, \"Constraint2\"\n",
    "prob += x1 + 4 * x2 == 20, \"Constraint3\"\n",
    "\n",
    "# Solve the problem\n",
    "prob.solve()\n",
    "\n",
    "# Display the results\n",
    "print(\"Status:\", prob.status)\n",
    "print(\"Optimal values:\")\n",
    "print(\"x1 =\", x1.value())\n",
    "print(\"x2 =\", x2.value())\n",
    "print(\"Optimal objective function value (Z) =\", prob.objective.value())"
   ]
  },
  {
   "cell_type": "markdown",
   "metadata": {},
   "source": [
    "#### Example 3\n",
    "\n",
    "**Objective Function:**\n",
    "$$ \\text{Maximize } Z = x_1 - 8x_2 $$\n",
    "\n",
    "**Constraints:**\n",
    "$$ 3x_1 + 2x_2 \\geq 6 $$\n",
    "$$ x_1 - x_2 \\leq 6 $$\n",
    "$$ 9x_1 + 7x_2 \\leq 108 $$\n",
    "$$ 3x_1 + 7x_2 \\leq 70 $$\n",
    "$$ -2x_1 + 5x_2 \\leq 35 $$\n",
    "\n",
    "\n",
    "**Non-negativity Constraints:**\n",
    "$$ x_1 \\geq 0 $$\n",
    "$$ x_2 \\geq 0 $$\n"
   ]
  },
  {
   "cell_type": "markdown",
   "metadata": {},
   "source": [
    "##### Using my implementation"
   ]
  },
  {
   "cell_type": "code",
   "execution_count": 28,
   "metadata": {},
   "outputs": [
    {
     "data": {
      "text/plain": [
       "{'status': 'SUCCESS',\n",
       " 'iterations': 2,\n",
       " 'variables': {'x1': 6.0,\n",
       "  'x2': 0,\n",
       "  'x3': 12.0,\n",
       "  'x4': 0,\n",
       "  'x5': 54.0,\n",
       "  'x6': 52.0,\n",
       "  'x7': 47.0},\n",
       " 'optimal_value': 6.0}"
      ]
     },
     "execution_count": 28,
     "metadata": {},
     "output_type": "execute_result"
    }
   ],
   "source": [
    "C = np.array([1, -8])\n",
    "\n",
    "A = np.array([[-3, -2],\n",
    "              [1, -1],\n",
    "              [9, 7],\n",
    "              [3, 7],\n",
    "              [-2, 5]])\n",
    "\n",
    "B = np.array([-6, 6, 108, 70, 35])\n",
    "\n",
    "lin_prog(C , A , B)"
   ]
  },
  {
   "cell_type": "markdown",
   "metadata": {},
   "source": [
    "##### Using pulp"
   ]
  },
  {
   "cell_type": "code",
   "execution_count": 29,
   "metadata": {},
   "outputs": [
    {
     "name": "stdout",
     "output_type": "stream",
     "text": [
      "x1 = 6.0\n",
      "x2 = 0.0\n",
      "objective = 6.0\n"
     ]
    }
   ],
   "source": [
    "x = LpVariable(\"x1\", lowBound=0)\n",
    "y = LpVariable(\"x2\", lowBound=0)\n",
    "\n",
    "problem = LpProblem(\"propblem\", sense= LpMaximize)\n",
    "\n",
    "problem += (x - 8*y) # maximize function\n",
    "problem += (3*x + 2*y >= 6  ) # constraint 1\n",
    "problem += (x -y <= 6  ) # constraint 2\n",
    "problem += (9*x +7*y <= 108) # constraint 3\n",
    "problem += (3*x +7 *y <= 70) # constraint 4\n",
    "problem += (-2*x +5*y <= 35 ) # constraint 5\n",
    "\n",
    "problem.solve()\n",
    "for variable in problem.variables():\n",
    "    print(f\"{variable.name} = {variable.value()}\")\n",
    "\n",
    "print(f\"objective = {problem.objective.value()}\")"
   ]
  },
  {
   "cell_type": "markdown",
   "metadata": {},
   "source": [
    "#### Example 4\n",
    "**Objective Function:**\n",
    "$$ \\text{Minimize } Z = 3x_1 + 2x_2 + x_3 $$\n",
    "\n",
    "**Constraints:**\n",
    "$$ x_1 + x_2 + x_3 \\geq 4 $$\n",
    "$$ x_2 - x_3 \\leq 2 $$\n",
    "$$ x_1 +x_2 +2x_3 = 6 $$\n",
    "\n",
    "\n",
    "**Non-negativity Constraints:**\n",
    "$$ x_1 \\geq 0 $$\n",
    "$$ x_2 \\geq 0 $$\n",
    "$$ x_3 \\geq 0 $$"
   ]
  },
  {
   "cell_type": "code",
   "execution_count": 30,
   "metadata": {},
   "outputs": [
    {
     "data": {
      "text/plain": [
       "{'status': 'SUCCESS',\n",
       " 'iterations': 3,\n",
       " 'variables': {'x1': 0, 'x2': 2.0, 'x3': 2.0, 'x4': 0, 'x5': 2.0},\n",
       " 'optimal_value': 6.0}"
      ]
     },
     "execution_count": 30,
     "metadata": {},
     "output_type": "execute_result"
    }
   ],
   "source": [
    "C = np.array([3,2,1])\n",
    "\n",
    "A = np.array([\n",
    "    [-1,-1,-1],\n",
    "    [0,1,-1]\n",
    "])\n",
    "B = np.array([-4 ,2])\n",
    "\n",
    "E = np.array([\n",
    "    [1,1,2],\n",
    "])\n",
    "B_e = np.array([6])\n",
    "\n",
    "lin_prog(C , A , B, E , B_e , minimize= True)"
   ]
  },
  {
   "cell_type": "markdown",
   "metadata": {},
   "source": [
    "##### Using pulp"
   ]
  },
  {
   "cell_type": "code",
   "execution_count": 31,
   "metadata": {},
   "outputs": [
    {
     "name": "stdout",
     "output_type": "stream",
     "text": [
      "x1 = 0.0\n",
      "x2 = 2.0\n",
      "x3 = 2.0\n",
      "objective = 6.0\n"
     ]
    }
   ],
   "source": [
    "x1 = LpVariable(\"x1\", lowBound=0)\n",
    "x2 = LpVariable(\"x2\", lowBound=0)\n",
    "x3 = LpVariable(\"x3\", lowBound=0)\n",
    "\n",
    "problem = LpProblem(\"propblem\", sense= LpMinimize)\n",
    "\n",
    "problem += (3*x1 + 2*x2 + x3) # maximize function\n",
    "problem += (x1 + x2 + x3 >= 4  ) # constraint 1\n",
    "problem += (x2 - x3 <= 2  ) # constraint 2\n",
    "problem += (x1 + x2 + 2 *x3 ==6) # constraint 3\n",
    "\n",
    "problem.solve()\n",
    "for variable in problem.variables():\n",
    "    print(f\"{variable.name} = {variable.value()}\")\n",
    "\n",
    "print(f\"objective = {problem.objective.value()}\")"
   ]
  }
 ],
 "metadata": {
  "kernelspec": {
   "display_name": "Python 3",
   "language": "python",
   "name": "python3"
  },
  "language_info": {
   "codemirror_mode": {
    "name": "ipython",
    "version": 3
   },
   "file_extension": ".py",
   "mimetype": "text/x-python",
   "name": "python",
   "nbconvert_exporter": "python",
   "pygments_lexer": "ipython3",
   "version": "3.11.5"
  }
 },
 "nbformat": 4,
 "nbformat_minor": 2
}
