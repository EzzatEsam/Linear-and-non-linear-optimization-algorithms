{
  "cells": [
    {
      "cell_type": "markdown",
      "source": [
        "![alt text](https://zewailcity.edu.eg/main/images/logo3.png)\n",
        "# Math 404 report 1\n",
        "### Ezzat Esam Eisawy  201901195"
      ],
      "metadata": {
        "id": "Dd7YkAzQ0Z6t"
      }
    },
    {
      "cell_type": "markdown",
      "metadata": {
        "id": "pR_3kKM00UG5"
      },
      "source": [
        "# Imports"
      ]
    },
    {
      "cell_type": "code",
      "execution_count": null,
      "metadata": {
        "id": "-MKw0VWl0UG7"
      },
      "outputs": [],
      "source": [
        "import numpy as np\n",
        "import pandas as pd\n",
        "import matplotlib.pyplot as plt\n",
        "from typing import Callable\n",
        "from IPython.utils.io import capture_output\n",
        "from scipy.optimize import minimize"
      ]
    },
    {
      "cell_type": "markdown",
      "metadata": {
        "id": "wWEC8H2P0UG9"
      },
      "source": [
        "# Fibonaci and Golden Ratio elemination methods"
      ]
    },
    {
      "cell_type": "code",
      "execution_count": null,
      "metadata": {
        "id": "vJ7Ds-rw0UG-"
      },
      "outputs": [],
      "source": [
        "def solve_elimination_1D(\n",
        "    func: Callable[[float], float],\n",
        "    lower: float,\n",
        "    upper: float,\n",
        "    minimize: bool = True,\n",
        "    method: str = \"golden\",\n",
        "    accuracy: float = 0.1,\n",
        "    visualize: bool = True,\n",
        "):\n",
        "    \"\"\"\n",
        "    Solves a 1-dimensional optimization problem using the elimination method.\n",
        "\n",
        "    Parameters:\n",
        "    - func (Callable[[float], float]): The objective function to be minimized or maximized.\n",
        "    - lower (float): The lower bound of the search space.\n",
        "    - upper (float): The upper bound of the search space.\n",
        "    - minimize (bool, optional): If True, the goal is to minimize the objective function; otherwise, to maximize. Default is True.\n",
        "    - method (str, optional): The method to use for optimization. Options include \"golden\" for the golden section method and \"fib\" for Fibonacci method. Default is \"golden\".\n",
        "    - accuracy (float, optional): The desired accuracy of the solution. Default is 0.1.\n",
        "    - visualize (bool, optional): If True, the optimization process is visualized and a table of iterations is displayed. Default is True.\n",
        "\n",
        "    Returns:\n",
        "    - float: The optimal value of x within the specified bounds.\n",
        "    \"\"\"\n",
        "    x_lower = lower\n",
        "    x_upper = upper\n",
        "\n",
        "    f_x_upper = func(x_upper)\n",
        "    f_x_lower = func(x_lower)\n",
        "\n",
        "    if visualize:\n",
        "        history = pd.DataFrame(\n",
        "            columns=[\n",
        "                \"x_lower\",\n",
        "                \"f(x_lower)\",\n",
        "                \"x2\",\n",
        "                \"f(x2)\",\n",
        "                \"x1\",\n",
        "                \"f(x1)\",\n",
        "                \"x_upper\",\n",
        "                \"f(x_upper)\",\n",
        "                \"d\",\n",
        "            ]\n",
        "        )\n",
        "\n",
        "    if method == \"fib\":\n",
        "        n = abs(x_upper - x_lower) / accuracy\n",
        "\n",
        "        fib_list = [1, 1]\n",
        "\n",
        "        while fib_list[-1] < n:\n",
        "            fib_list.append(fib_list[-1] + fib_list[-2])\n",
        "\n",
        "    i = 0\n",
        "    while 1:\n",
        "        if method == \"fib\":\n",
        "            ratio = fib_list[-2 - i] / fib_list[-1 - i]\n",
        "        else:\n",
        "            ratio = 0.618\n",
        "\n",
        "        d = ratio * (x_upper - x_lower)\n",
        "        x1 = x_lower + d\n",
        "        x2 = x_upper - d\n",
        "\n",
        "        f_x1 = func(x1)\n",
        "        f_x2 = func(x2)\n",
        "\n",
        "        if visualize:\n",
        "            history.loc[i] = [\n",
        "                x_lower,\n",
        "                f_x_lower,\n",
        "                x2,\n",
        "                f_x2,\n",
        "                x1,\n",
        "                f_x1,\n",
        "                x_upper,\n",
        "                f_x_upper,\n",
        "                d,\n",
        "            ]\n",
        "\n",
        "        choose_x1 = (f_x1 > f_x2) if minimize else (f_x1 < f_x2)\n",
        "\n",
        "        if choose_x1:\n",
        "            x_upper = x1\n",
        "            f_x_upper = f_x1\n",
        "        else:\n",
        "            x_lower = x2\n",
        "            f_x_lower = f_x2\n",
        "\n",
        "        i += 1\n",
        "        if abs(x_upper - x_lower) < accuracy:\n",
        "            break\n",
        "\n",
        "    if visualize:\n",
        "        # display(history)\n",
        "        print(history.to_markdown())\n",
        "\n",
        "    return (x_upper + x_lower) / 2"
      ]
    },
    {
      "cell_type": "markdown",
      "metadata": {
        "id": "i1FVMJ2K0UHA"
      },
      "source": [
        "## Testing"
      ]
    },
    {
      "cell_type": "code",
      "execution_count": null,
      "metadata": {
        "colab": {
          "base_uri": "https://localhost:8080/"
        },
        "id": "xhWLZfoA0UHB",
        "outputId": "6ec460ca-3129-4513-e9e3-222ddca7c6df"
      },
      "outputs": [
        {
          "output_type": "stream",
          "name": "stdout",
          "text": [
            "|    |   x_lower |   f(x_lower) |       x2 |   f(x2) |      x1 |    f(x1) |   x_upper |   f(x_upper) |         d |\n",
            "|---:|----------:|-------------:|---------:|--------:|--------:|---------:|----------:|-------------:|----------:|\n",
            "|  0 |  0        |      0       | 1.52727  | 1.76485 | 2.47273 | 0.628754 |   4       |    -3.1136   | 2.47273   |\n",
            "|  1 |  0        |      0       | 0.945455 | 1.53214 | 1.52727 | 1.76485  |   2.47273 |     0.628754 | 1.52727   |\n",
            "|  2 |  0.945455 |      1.53214 | 1.52727  | 1.76485 | 1.89091 | 1.54085  |   2.47273 |     0.628754 | 0.945455  |\n",
            "|  3 |  0.945455 |      1.53214 | 1.30909  | 1.76053 | 1.52727 | 1.76485  |   1.89091 |     1.54085  | 0.581818  |\n",
            "|  4 |  1.30909  |      1.76053 | 1.52727  | 1.76485 | 1.67273 | 1.70982  |   1.89091 |     1.54085  | 0.363636  |\n",
            "|  5 |  1.30909  |      1.76053 | 1.45455  | 1.77493 | 1.52727 | 1.76485  |   1.67273 |     1.70982  | 0.218182  |\n",
            "|  6 |  1.30909  |      1.76053 | 1.38182  | 1.77345 | 1.45455 | 1.77493  |   1.52727 |     1.76485  | 0.145455  |\n",
            "|  7 |  1.38182  |      1.77345 | 1.45455  | 1.77493 | 1.45455 | 1.77493  |   1.52727 |     1.76485  | 0.0727273 |\n",
            "soltuion1.490909090909091\n"
          ]
        }
      ],
      "source": [
        "objective_function = lambda x : 2*np.sin(x) - (x**2)/10\n",
        "\n",
        "x = solve_elimination_1D(objective_function , 0 , 4 , minimize=False  , method=\"fib\")\n",
        "print(f\"soltuion{x}\")"
      ]
    },
    {
      "cell_type": "markdown",
      "metadata": {
        "id": "Jo1MosiL0UHF"
      },
      "source": [
        "# Interpolation methods"
      ]
    },
    {
      "cell_type": "code",
      "execution_count": null,
      "metadata": {
        "id": "jpPoDAGy0UHG"
      },
      "outputs": [],
      "source": [
        "def solve_quadratic_interpolation(func : Callable[[float], float], t_0 : float, accuracy : float=0.1, visualize=True, max_itr=10):\n",
        "    \"\"\"\n",
        "    Solves an optimization problem using quadratic interpolation.\n",
        "\n",
        "    Parameters:\n",
        "    - func (Callable[[float], float]): The objective function to be minimized.\n",
        "    - t_0 (float): The initial interval.\n",
        "    - accuracy (float, optional): The desired accuracy of the solution. Default is 0.1.\n",
        "    - visualize (bool, optional): If True, the optimization process is visualized. Default is True.\n",
        "    - max_itr (int, optional): The maximum number of iterations. Default is 10.\n",
        "\n",
        "    Returns:\n",
        "    - float: The optimal value of the parameter within the specified bounds.\n",
        "    \"\"\"\n",
        "\n",
        "    f_a = func(0)\n",
        "\n",
        "    A = 0\n",
        "\n",
        "    t = t_0\n",
        "\n",
        "    f_1 = func(t)\n",
        "\n",
        "\n",
        "    if f_1 > f_a:\n",
        "\n",
        "        f_c = f_1\n",
        "\n",
        "        C = t\n",
        "\n",
        "        f_b = func(t / 2)\n",
        "\n",
        "        B = t / 2\n",
        "\n",
        "    else:\n",
        "\n",
        "        while 1:\n",
        "\n",
        "            f_2 = func(2 * t)\n",
        "\n",
        "            if f_1 < f_2:\n",
        "\n",
        "                f_c = f_2\n",
        "\n",
        "                C = 2 * t\n",
        "\n",
        "                f_b = f_1\n",
        "\n",
        "                B = t\n",
        "\n",
        "                break\n",
        "\n",
        "            else:\n",
        "\n",
        "                f_1 = f_2\n",
        "\n",
        "                t = 2 * t\n",
        "\n",
        "\n",
        "    for i in range(max_itr):\n",
        "\n",
        "        # solving\n",
        "\n",
        "        # a + bA  + c A^2 = f_A\n",
        "\n",
        "        # a + bB + c B^2 = f_B\n",
        "\n",
        "        # a + bC + c C^2 = f_C\n",
        "\n",
        "        #print(f\"A = {A}, B = {B}, C = {C}\")\n",
        "        ans = np.linalg.solve(\n",
        "\n",
        "            np.array([[1, A, A**2], [1, B, B**2], [1, C, C**2]]),\n",
        "\n",
        "            np.array([f_a, f_b, f_c]),\n",
        "        )\n",
        "\n",
        "        a, b, c = ans\n",
        "\n",
        "\n",
        "        lambda_s = -b / (2 * c)\n",
        "        #print(f\"lambda s = {lambda_s :.2f}\")\n",
        "\n",
        "        h = lambda x: a + b * x + c * x**2\n",
        "        f = func(lambda_s)\n",
        "\n",
        "        convergance = np.abs((h(lambda_s) - f) / f)\n",
        "\n",
        "        # plot\n",
        "\n",
        "        if visualize:\n",
        "\n",
        "            print(f\"A = {A}, B = {B}, C = {C}\")\n",
        "\n",
        "            print(f\"lambda s = {lambda_s :.2f}\")\n",
        "\n",
        "            print(f\"Convergance = {convergance :.4f} , required = {accuracy :.4f}\")\n",
        "\n",
        "            x_values = np.linspace(0, 2 * t, 1000)\n",
        "\n",
        "            y_values_1 = [func(x) for x in x_values]\n",
        "\n",
        "            y_values_2 = h(x_values)\n",
        "\n",
        "\n",
        "            plt.figure()\n",
        "\n",
        "            plt.plot(x_values, y_values_1, label=\"Function\")\n",
        "\n",
        "            plt.plot(x_values, y_values_2, label=\"Quadratic Interpolation\")\n",
        "            plt.scatter(\n",
        "                lambda_s,\n",
        "                f,\n",
        "\n",
        "                color=\"red\",\n",
        "\n",
        "                label=f\"Function Minima: ({lambda_s:.2f}, {f:.2f})\",\n",
        "            )\n",
        "            plt.scatter(\n",
        "                lambda_s,\n",
        "\n",
        "                h(lambda_s),\n",
        "\n",
        "                color=\"green\",\n",
        "\n",
        "                label=f\"Interpolation Minima: ({lambda_s:.2f}, {h(lambda_s):.2f})\",\n",
        "            )\n",
        "            plt.scatter(\n",
        "\n",
        "                A,\n",
        "                f_a,\n",
        "\n",
        "                label=f\"A\",\n",
        "            )\n",
        "\n",
        "            plt.scatter(B, f_b, label=f\"B\")\n",
        "\n",
        "            plt.scatter(C, f_c, label=f\"C\")\n",
        "\n",
        "            plt.title(\"Quadratic Interpolation\")\n",
        "\n",
        "            plt.grid()\n",
        "\n",
        "            plt.xlabel(\"x\")\n",
        "\n",
        "            plt.ylabel(\"y\")\n",
        "\n",
        "            plt.legend()\n",
        "\n",
        "            plt.show()\n",
        "\n",
        "\n",
        "        if convergance > accuracy:\n",
        "\n",
        "            # case 1\n",
        "\n",
        "            if lambda_s > B and f < f_b:\n",
        "\n",
        "                A = B\n",
        "                f_a = f_b\n",
        "\n",
        "                B = lambda_s\n",
        "                f_b = f\n",
        "\n",
        "\n",
        "            # case 2\n",
        "\n",
        "            elif lambda_s > B and f > f_b:\n",
        "\n",
        "                C = lambda_s\n",
        "                f_c = f\n",
        "\n",
        "\n",
        "            # case 3\n",
        "\n",
        "            elif lambda_s < B and f < f_b:\n",
        "\n",
        "                C = B\n",
        "                f_c = f_b\n",
        "\n",
        "                B = lambda_s\n",
        "                f_b = f\n",
        "\n",
        "\n",
        "\n",
        "            # case 4\n",
        "\n",
        "            elif lambda_s < B and f > f_b:\n",
        "\n",
        "                A = lambda_s\n",
        "                f_a = f\n",
        "\n",
        "\n",
        "        else:\n",
        "\n",
        "            break\n",
        "    return lambda_s\n",
        "\n"
      ]
    },
    {
      "cell_type": "code",
      "execution_count": null,
      "metadata": {
        "colab": {
          "base_uri": "https://localhost:8080/",
          "height": 1000
        },
        "id": "3xEaHIdk0UHH",
        "outputId": "45a65495-4bdf-4ffc-c151-9702ec4dd3dd"
      },
      "outputs": [
        {
          "output_type": "stream",
          "name": "stdout",
          "text": [
            "A = 0, B = 2, C = 4\n",
            "lambda s = 1.13\n",
            "Convergance = 3.7930 , required = 0.0100\n"
          ]
        },
        {
          "output_type": "display_data",
          "data": {
            "text/plain": [
              "<Figure size 640x480 with 1 Axes>"
            ],
            "image/png": "[encoded data removed]"
          },
          "metadata": {}
        },
        {
          "output_type": "stream",
          "name": "stdout",
          "text": [
            "A = 1.1333333333333333, B = 2, C = 4\n",
            "lambda s = 1.66\n",
            "Convergance = 0.4990 , required = 0.0100\n"
          ]
        },
        {
          "output_type": "display_data",
          "data": {
            "text/plain": [
              "<Figure size 640x480 with 1 Axes>"
            ],
            "image/png": "[encoded data removed]"
          },
          "metadata": {}
        },
        {
          "output_type": "stream",
          "name": "stdout",
          "text": [
            "A = 1.658458102250572, B = 2, C = 4\n",
            "lambda s = 1.87\n",
            "Convergance = 0.0731 , required = 0.0100\n"
          ]
        },
        {
          "output_type": "display_data",
          "data": {
            "text/plain": [
              "<Figure size 640x480 with 1 Axes>"
            ],
            "image/png": "[encoded data removed]"
          },
          "metadata": {}
        },
        {
          "output_type": "stream",
          "name": "stdout",
          "text": [
            "A = 1.8740625360908771, B = 2, C = 4\n",
            "lambda s = 1.95\n",
            "Convergance = 0.0099 , required = 0.0100\n"
          ]
        },
        {
          "output_type": "display_data",
          "data": {
            "text/plain": [
              "<Figure size 640x480 with 1 Axes>"
            ],
            "image/png": "[encoded data removed]"
          },
          "metadata": {}
        },
        {
          "output_type": "stream",
          "name": "stdout",
          "text": [
            "Solution = 1.9549510186208594\n"
          ]
        }
      ],
      "source": [
        "f = lambda x: x**5 - 5 * x**3 - 20 * x + 5\n",
        "\n",
        "lambda_s = solve_quadratic_interpolation(f, 2, accuracy=1e-2)\n",
        "print(f\"Solution = {lambda_s}\")"
      ]
    },
    {
      "cell_type": "code",
      "execution_count": null,
      "metadata": {
        "id": "lgm0hRER0UHI"
      },
      "outputs": [],
      "source": [
        "def solve_cubic_interpolation(\n",
        "    objective_function: Callable[[float], float],\n",
        "    derivative_function: Callable[[float], float],\n",
        "    t_0: float,\n",
        "    accuracy: float = 0.1,\n",
        "    derivative_accuracy: float = 0.1,\n",
        "    max_itr=10,\n",
        "    visualize=True,\n",
        "):\n",
        "    \"\"\"\n",
        "    Solves an optimization problem using cubic interpolation.\n",
        "\n",
        "    Parameters:\n",
        "    - objective_function (Callable[[float], float]): The objective function to be minimized.\n",
        "    - derivative_function (Callable[[float], float]): The derivative of the objective function.\n",
        "    - t_0 (float): The initial interval.\n",
        "    - accuracy (float, optional): The desired accuracy of the solution. Default is 0.1.\n",
        "    - derivative_accuracy (float, optional): The desired accuracy of the derivative. Default is 0.1.\n",
        "    - max_itr (int, optional): The maximum number of iterations. Default is 20.\n",
        "    - visualize (bool, optional): If True, the optimization process is visualized. Default is True.\n",
        "\n",
        "    Returns:\n",
        "    - float: The optimal value of the parameter within the specified bounds.\n",
        "    \"\"\"\n",
        "    A = 0\n",
        "    fA = objective_function(A)\n",
        "    fA_derivative = derivative_function(A)\n",
        "    t = t_0\n",
        "    while 1:\n",
        "        B = t\n",
        "        fB_derivative = derivative_function(B)\n",
        "        if fB_derivative >= 0:\n",
        "            fB = objective_function(B)\n",
        "\n",
        "            break\n",
        "        t *= 2\n",
        "\n",
        "    for i in range(max_itr):\n",
        "        # solving a , b , c ,d\n",
        "        # a + b A + c A^2 + d A^3 = f_A\n",
        "        # a + b B + c B^2 + d B^3 = f_B\n",
        "        # 0 + b + 2cA + 3dA^2 = f_A_derivative\n",
        "        # 0 + b + 2cB + 3dB^2 = f_B_derivative\n",
        "\n",
        "        ans = np.linalg.solve(\n",
        "            np.array(\n",
        "                [\n",
        "                    [1, A, A**2, A**3],\n",
        "                    [1, B, B**2, B**3],\n",
        "                    [0, 1, 2 * A, 3 * A**2],\n",
        "                    [0, 1, 2 * B, 3 * B**2],\n",
        "                ]\n",
        "            ),\n",
        "            np.array([fA, fB, fA_derivative, fB_derivative]),\n",
        "        )\n",
        "        a, b, c, d = ans\n",
        "        lambda_1 = (-c + (c**2 - 3 * b * d) ** 0.5) / (3 * d)\n",
        "        lambda_2 = (-c - (c**2 - 3 * b * d) ** 0.5) / (3 * d)\n",
        "        if lambda_1 >= A and lambda_1 <= B:\n",
        "            lambda_s = lambda_1\n",
        "        else:\n",
        "            lambda_s = lambda_2\n",
        "\n",
        "        # print(lambda_1, lambda_2)\n",
        "        # print(A, B  , lambda_s)\n",
        "        h = lambda x: a + b * x + c * x**2 + d * x**3\n",
        "\n",
        "        f = objective_function(lambda_s)\n",
        "\n",
        "        # plot\n",
        "        if visualize:\n",
        "            x_values = np.linspace(0, 2 * t, 1000)\n",
        "            y_values_1 = [objective_function(x) for x in x_values]\n",
        "            y_values_2 = h(x_values)\n",
        "\n",
        "            plt.figure()\n",
        "            plt.plot(x_values, y_values_1, label=\"Function\")\n",
        "            plt.plot(x_values, y_values_2, label=\"cubic Interpolation\")\n",
        "            plt.scatter(\n",
        "                lambda_s,\n",
        "                f,\n",
        "                color=\"red\",\n",
        "                label=f\"Function Minima: ({lambda_s:.2f}, {f:.2f})\",\n",
        "            )\n",
        "            plt.scatter(\n",
        "                lambda_s,\n",
        "                h(lambda_s),\n",
        "                color=\"green\",\n",
        "                label=f\"Interpolation Minima: ({lambda_s:.2f}, {h(lambda_s):.2f})\",\n",
        "            )\n",
        "            plt.scatter(\n",
        "                A,\n",
        "                fA,\n",
        "                label=f\"A\",\n",
        "            )\n",
        "            plt.scatter(B, fB, label=f\"B\")\n",
        "            plt.title(\"cubic Interpolation\")\n",
        "            plt.xlabel(\"x\")\n",
        "            plt.ylabel(\"y\")\n",
        "            plt.grid()\n",
        "            plt.legend()\n",
        "            plt.show()\n",
        "\n",
        "        # check convergence\n",
        "        # print(np.abs((h(lambda_s) - f) / f), derivative_function(lambda_s))\n",
        "        # print(f , h(lambda_s))\n",
        "        if not (\n",
        "            np.abs((h(lambda_s) - f) / f) < accuracy\n",
        "            or abs(derivative_function(lambda_s)) < derivative_accuracy\n",
        "        ):\n",
        "            f_lambda_derivative = derivative_function(lambda_s)\n",
        "            if f_lambda_derivative >= 0:\n",
        "                B = lambda_s\n",
        "            else:\n",
        "                A = lambda_s\n",
        "        else:\n",
        "            break\n",
        "\n",
        "    return lambda_s"
      ]
    },
    {
      "cell_type": "markdown",
      "metadata": {
        "id": "ESmSMbAO0UHJ"
      },
      "source": [
        "## Testing"
      ]
    },
    {
      "cell_type": "code",
      "execution_count": null,
      "metadata": {
        "colab": {
          "base_uri": "https://localhost:8080/",
          "height": 489
        },
        "id": "eDQfnXuh0UHJ",
        "outputId": "7e5a2fbb-fd45-44a2-f8e9-a1da0258d4fc"
      },
      "outputs": [
        {
          "output_type": "display_data",
          "data": {
            "text/plain": [
              "<Figure size 640x480 with 1 Axes>"
            ],
            "image/png": "[encoded data removed]"
          },
          "metadata": {}
        },
        {
          "output_type": "stream",
          "name": "stdout",
          "text": [
            "2.0\n"
          ]
        }
      ],
      "source": [
        "f = lambda x: x**5 - 5 * x**3 - 20 * x + 5\n",
        "f_derivative = lambda x: 5 * x**4 - 15 * x**2 - 20\n",
        "lambda_s = solve_cubic_interpolation(\n",
        "    f, f_derivative, 1, accuracy=1e-3, derivative_accuracy=0.1, visualize=True\n",
        ")\n",
        "print(lambda_s)"
      ]
    },
    {
      "cell_type": "code",
      "execution_count": null,
      "metadata": {
        "id": "KZCY3ekC0UHK"
      },
      "outputs": [],
      "source": [
        "def optimize_1d_general(\n",
        "    obj_function: Callable[[np.ndarray], float],\n",
        "    grad_function: Callable[[np.ndarray], np.ndarray],\n",
        "    x: np.ndarray,\n",
        "    s: np.ndarray,\n",
        "    interval: float,\n",
        "    method_1d: str = \"golden\",\n",
        "):\n",
        "    \"\"\"\n",
        "    Optimizes a one-dimensional objective function along a given search direction.\n",
        "\n",
        "    Parameters:\n",
        "    - obj_function (Callable[[np.ndarray], float]): The objective function to be minimized.\n",
        "    - grad_function (Callable[[np.ndarray], np.ndarray]): The gradient function.\n",
        "    - x (np.ndarray): The current point.\n",
        "    - s (np.ndarray): The search direction.\n",
        "    - interval (float): The interval for the one-dimensional optimization.\n",
        "    - method_1d (str, optional): The method for one-dimensional optimization. Options include \"constant\", \"fib\" (Fibonacci), \"golden\" (Golden Section), \"quad\" (Quadratic), and \"cubic\" (Cubic). Default is \"golden\".\n",
        "\n",
        "    Returns:\n",
        "    - float: The optimal value of the parameter within the specified interval.\n",
        "    \"\"\"\n",
        "\n",
        "    def function_to_optimize_lambda(lambda_s):\n",
        "        x_new = x + lambda_s * s\n",
        "        return obj_function(x_new)\n",
        "\n",
        "    if method_1d == \"constant\":\n",
        "        lambda_s = 1\n",
        "\n",
        "    elif method_1d == \"fib\":\n",
        "        lambda_s = solve_elimination_1D(\n",
        "            function_to_optimize_lambda,\n",
        "            0,\n",
        "            interval,\n",
        "            minimize=True,\n",
        "            method=\"fib\",\n",
        "            accuracy=0.001,\n",
        "            visualize=False,\n",
        "        )\n",
        "\n",
        "    elif method_1d == \"golden\":\n",
        "        lambda_s = solve_elimination_1D(\n",
        "            function_to_optimize_lambda,\n",
        "            0,\n",
        "            interval,\n",
        "            minimize=True,\n",
        "            method=\"golden\",\n",
        "            accuracy=0.001,\n",
        "            visualize=False,\n",
        "        )\n",
        "\n",
        "    elif method_1d == \"quad\":\n",
        "        lambda_s = solve_quadratic_interpolation(\n",
        "            function_to_optimize_lambda,\n",
        "            interval,\n",
        "            accuracy=0.001,\n",
        "            visualize=False,\n",
        "        )\n",
        "\n",
        "    elif method_1d == \"cubic\":\n",
        "\n",
        "        def function_derivative(lambda_s):\n",
        "            s_normalized = s / np.linalg.norm(s)\n",
        "            return s_normalized @ grad_function(x + lambda_s * s)\n",
        "\n",
        "        lambda_s = solve_cubic_interpolation(\n",
        "            function_to_optimize_lambda,\n",
        "            function_derivative,\n",
        "            interval,\n",
        "            accuracy=0.01,\n",
        "            derivative_accuracy=0.01,\n",
        "            visualize=False,\n",
        "        )\n",
        "\n",
        "    return lambda_s"
      ]
    },
    {
      "cell_type": "markdown",
      "metadata": {
        "id": "BGNbbQOw0UHL"
      },
      "source": [
        "# Descent functions"
      ]
    },
    {
      "cell_type": "markdown",
      "metadata": {
        "id": "lrouEoaH0UHL"
      },
      "source": [
        "## Fletcher reeves"
      ]
    },
    {
      "cell_type": "code",
      "execution_count": null,
      "metadata": {
        "id": "NBmE2CLb0UHL"
      },
      "outputs": [],
      "source": [
        "def solve_fletcher_reeves(\n",
        "    gradient_function: Callable[[np.ndarray], np.ndarray],\n",
        "    hessian_function: Callable[[np.ndarray], np.ndarray],\n",
        "    x_0: np.ndarray,\n",
        "    eps: float = 1e-3,\n",
        "):\n",
        "    \"\"\"\n",
        "    Solves an optimization problem using the Fletcher-Reeves conjugate gradient method.\n",
        "\n",
        "    Parameters:\n",
        "    - gradient_function (Callable[[np.ndarray], np.ndarray]): The gradient function.\n",
        "    - hessian_function (Callable[[np.ndarray], np.ndarray]): The Hessian function.\n",
        "    - x_0 (np.ndarray): The initial guess for the minimum.\n",
        "    - eps (float, optional): The desired accuracy of the solution. Default is 1e-3.\n",
        "\n",
        "    Returns:\n",
        "    - np.ndarray: The optimal values of the parameters.\n",
        "    \"\"\"\n",
        "\n",
        "    x1 = x_0\n",
        "\n",
        "    s1 = -gradient_function(x1)\n",
        "\n",
        "    A = hessian_function(x1)\n",
        "\n",
        "\n",
        "    lambda_s = np.linalg.norm(gradient_function(x1)) ** 2 / (s1 @ A @ s1)\n",
        "\n",
        "    x2 = x1 + lambda_s * s1\n",
        "\n",
        "\n",
        "    xi = x2\n",
        "\n",
        "    grad_f_i_1 = -s1\n",
        "    si_1 = s1\n",
        "\n",
        "\n",
        "    i = 0\n",
        "\n",
        "    while 1:\n",
        "        grad_f_i = gradient_function(xi)\n",
        "\n",
        "\n",
        "        if np.linalg.norm(grad_f_i) <= eps:\n",
        "            break\n",
        "\n",
        "\n",
        "        si = (\n",
        "            -grad_f_i\n",
        "            + np.linalg.norm(grad_f_i) ** 2 / np.linalg.norm(grad_f_i_1) ** 2 * si_1\n",
        "        )\n",
        "\n",
        "        lambda_si = np.linalg.norm(grad_f_i) ** 2 / (si @ A @ si)\n",
        "\n",
        "        xi = xi + lambda_si * si\n",
        "\n",
        "        A = hessian_function(xi)\n",
        "        i += 1\n",
        "\n",
        "\n",
        "    print(f\"Finished in {i} iterations\")\n",
        "\n",
        "\n",
        "    return xi"
      ]
    },
    {
      "cell_type": "markdown",
      "metadata": {
        "id": "dMrNWe8F0UHM"
      },
      "source": [
        "## Marquardt algorithm"
      ]
    },
    {
      "cell_type": "code",
      "execution_count": null,
      "metadata": {
        "id": "nwFWrxWW0UHM"
      },
      "outputs": [],
      "source": [
        "def solve_marquardt(\n",
        "    obj_function: Callable[[np.ndarray], float],\n",
        "    gradient_func: Callable[[np.ndarray], np.ndarray],\n",
        "    hessian_func: Callable[[np.ndarray], np.ndarray],\n",
        "    x_0: np.ndarray,\n",
        "    eps: float = 0.1,\n",
        "    alpha: float = 1e4,\n",
        "    c1: float = 0.5,\n",
        "    c2: float = 2,\n",
        "    method_1d: str = \"constant\",\n",
        "):\n",
        "    \"\"\"\n",
        "    Solves an optimization problem using the Marquardt method.\n",
        "\n",
        "    Parameters:\n",
        "    - obj_function (Callable[[np.ndarray], float]): The objective function to be minimized.\n",
        "    - gradient_func (Callable[[np.ndarray], np.ndarray]): The gradient function.\n",
        "    - hessian_func (Callable[[np.ndarray], np.ndarray]): The Hessian function.\n",
        "    - x_0 (np.ndarray): The initial guess for the minimum.\n",
        "    - eps (float, optional): The desired accuracy of the solution. Default is 0.1.\n",
        "    - alpha (float, optional): The initial value for the Marquardt parameter. Default is 1e4.\n",
        "    - c1 (float, optional): A constant for adjusting alpha when the function decreases. Default is 0.5.\n",
        "    - c2 (float, optional): A constant for adjusting alpha when the function increases. Default is 2.\n",
        "    - method_1d (str, optional): The method for one-dimensional optimization. Options include \"constant\", \"fib\" (Fibonacci), \"golden\" (Golden Section), \"quad\" (Quadratic), and \"cubic\" (Cubic). Default is \"constant\".\n",
        "\n",
        "    Returns:\n",
        "    - np.ndarray: The optimal values of the parameters.\n",
        "    \"\"\"\n",
        "    x = x_0\n",
        "    f = obj_function(x)\n",
        "    i = 0\n",
        "    while 1:\n",
        "        grad = gradient_func(x)\n",
        "        if np.linalg.norm(grad) <= eps:\n",
        "            break\n",
        "        hess = hessian_func(x)\n",
        "        # print(grad)\n",
        "        while 1:\n",
        "            s = -np.linalg.inv(hess + alpha * np.identity(x.shape[0])) @ grad\n",
        "\n",
        "\n",
        "\n",
        "            lambda_s = optimize_1d_general(\n",
        "                obj_function,\n",
        "                gradient_func,\n",
        "                x,\n",
        "                s,\n",
        "                2, method_1d=method_1d\n",
        "            )\n",
        "            #print(lambda_s)\n",
        "            x_new = x + lambda_s * s\n",
        "            f_new = obj_function(x_new)\n",
        "            if f_new < f:\n",
        "                alpha = alpha * c1\n",
        "                f = f_new\n",
        "                x = x_new\n",
        "                break\n",
        "            else:\n",
        "                alpha = alpha * c2\n",
        "\n",
        "        i += 1\n",
        "\n",
        "    print(f\"Finished in {i} iterations\")\n",
        "    return x"
      ]
    },
    {
      "cell_type": "markdown",
      "metadata": {
        "id": "RAvaPM7s0UHN"
      },
      "source": [
        "## Quasi-Newton algorithm"
      ]
    },
    {
      "cell_type": "code",
      "execution_count": null,
      "metadata": {
        "id": "upgBX72a0UHN"
      },
      "outputs": [],
      "source": [
        "def solve_quasi_newton(\n",
        "    obj_function: Callable[[np.ndarray], float],\n",
        "    gradient_func: Callable[[np.ndarray], np.ndarray],\n",
        "    x0: np.array,\n",
        "    method_1d: str = \"golden\",\n",
        "    eps: float = 1e-3,\n",
        "):\n",
        "    \"\"\"\n",
        "    Solves an optimization problem using the Quasi-Newton method.\n",
        "\n",
        "    Parameters:\n",
        "    - obj_function (Callable[[np.ndarray], float]): The objective function to be minimized.\n",
        "    - gradient_func (Callable[[np.ndarray], np.ndarray]): The gradient function.\n",
        "    - x0 (np.ndarray): The initial guess for the minimum.\n",
        "    - method_1d (str, optional): The method for one-dimensional optimization. Options include \"constant\", \"fib\" (Fibonacci), \"golden\" (Golden Section), \"quad\" (Quadratic), and \"cubic\" (Cubic). Default is \"golden\".\n",
        "    - eps (float, optional): The desired accuracy of the solution. Default is 1e-3.\n",
        "\n",
        "    Returns:\n",
        "    - np.ndarray: The optimal values of the parameters.\n",
        "    \"\"\"\n",
        "\n",
        "    B = np.identity(x0.shape[0])\n",
        "\n",
        "    x = x0\n",
        "\n",
        "    grad = gradient_func(x)\n",
        "\n",
        "\n",
        "    i = 0\n",
        "\n",
        "    while 1:\n",
        "\n",
        "        # if np.linalg.norm(grad) <= eps:\n",
        "\n",
        "        #     break\n",
        "\n",
        "        s = -B @ grad\n",
        "\n",
        "\n",
        "\n",
        "        lambda_s = optimize_1d_general(obj_function,gradient_func ,x, s, 4, method_1d=method_1d)  # TODO : find a dynamic way to get the interval\n",
        "\n",
        "        #print(lambda_s)\n",
        "\n",
        "        x_new = x + lambda_s * s\n",
        "\n",
        "\n",
        "        grad_new = gradient_func(x_new)\n",
        "\n",
        "        if np.linalg.norm(grad_new) <= eps:\n",
        "\n",
        "            break\n",
        "\n",
        "\n",
        "        # must reshape cuz numpy is stupid when dealing with 1D arrays\n",
        "\n",
        "        g = (grad_new - grad).reshape(-1, 1)\n",
        "\n",
        "        d = (lambda_s * s).reshape(-1, 1)\n",
        "\n",
        "\n",
        "        # EQ 6.136\n",
        "\n",
        "        B_new = (\n",
        "\n",
        "            B\n",
        "\n",
        "            + (1 + (g.T @ B @ g) / (d.T @ g)) * (d @ d.T) / (d.T @ g)\n",
        "\n",
        "            - (d @ g.T @ B) / (d.T @ g)\n",
        "\n",
        "            - (B @ g @ d.T) / (d.T @ g)\n",
        "        )\n",
        "\n",
        "\n",
        "        B = B_new\n",
        "\n",
        "        x = x_new\n",
        "        grad = grad_new\n",
        "\n",
        "        i += 1\n",
        "\n",
        "\n",
        "    print(f\"Finished in {i} iterations\")\n",
        "\n",
        "    return x"
      ]
    },
    {
      "cell_type": "markdown",
      "metadata": {
        "id": "dneFMDra0UHN"
      },
      "source": [
        "# Testing"
      ]
    },
    {
      "cell_type": "markdown",
      "metadata": {
        "id": "3atpvy4O0UHN"
      },
      "source": [
        "## Rosenbrock’s parabolic valley function\n",
        "\n",
        "Rosenbrock function:\n",
        "\\begin{align*}\n",
        "    \\text{rosenbrock_function}(x) &= 100 \\cdot (x_2 - x_1^2)^2 + (1 - x_1)^2\n",
        "\\end{align*}\n",
        "\n",
        "Gradient of Rosenbrock function:\n",
        "\\begin{align*}\n",
        "    \\nabla \\text{rosenbrock_function}(x) &= \\begin{bmatrix}\n",
        "        -400x_1(x_2 - x_1^2) - 2(1 - x_1) \\\\\n",
        "        200(x_2 - x_1^2)\n",
        "    \\end{bmatrix}\n",
        "\\end{align*}\n",
        "\n",
        "\n",
        "Hessian of Rosenbrock function:\n",
        "\\begin{align*}\n",
        "    \\nabla^2 \\text{rosenbrock_function}(x) &= \\begin{bmatrix}\n",
        "        -400(x_2 - 3x_1^2) + 2 & -400x_1 \\\\\n",
        "        -400x_1 & 200\n",
        "    \\end{bmatrix}\n",
        "\\end{align*}\n",
        "\n",
        "Initial guess:\n",
        "\\begin{align*}\n",
        "    x_0 &= \\begin{bmatrix}\n",
        "        -1.2 \\\\\n",
        "        1\n",
        "    \\end{bmatrix}\n",
        "\\end{align*}"
      ]
    },
    {
      "cell_type": "code",
      "execution_count": null,
      "metadata": {
        "id": "75dcmlYx0UHO"
      },
      "outputs": [],
      "source": [
        "rosenbrock_function = lambda x: 100 * (x[1] - x[0] ** 2) ** 2 + (1 - x[0]) ** 2\n",
        "rosenbrock_function_gradient = lambda x: np.array(\n",
        "    [\n",
        "        -400 * x[0] * (x[1] - x[0] ** 2) - 2 * (1 - x[0]),\n",
        "        200 * (x[1] - x[0] ** 2)\n",
        "    ]\n",
        ")\n",
        "rosenbrock_function_hessian = lambda x: np.array([\n",
        "    [-400 * (x[1] - 3 * x[0] ** 2) + 2, -400 * x[0]],\n",
        "    [-400 * x[0]                      , 200]\n",
        "]\n",
        ")\n",
        "x0 = np.array([-1.2, 1])"
      ]
    },
    {
      "cell_type": "markdown",
      "metadata": {
        "id": "CbhPVcUx0UHO"
      },
      "source": [
        "### Finding the the optimum using scipy"
      ]
    },
    {
      "cell_type": "code",
      "execution_count": null,
      "metadata": {
        "colab": {
          "base_uri": "https://localhost:8080/"
        },
        "id": "tgtp7T1v0UHO",
        "outputId": "829194e9-6657-42c0-840e-12938c63e24c"
      },
      "outputs": [
        {
          "output_type": "stream",
          "name": "stdout",
          "text": [
            "Minimum value: 2.0243313190213974e-11\n",
            "Optimal parameters: [0.9999955  0.99999099]\n",
            "Number of iterations: 32\n"
          ]
        }
      ],
      "source": [
        "\n",
        "# Define the Rosenbrock function\n",
        "rosenbrock_function = lambda x: 100 * (x[1] - x[0] ** 2) ** 2 + (1 - x[0]) ** 2\n",
        "\n",
        "# Initial guess\n",
        "initial_guess = np.array([-1.2, 1])\n",
        "\n",
        "# Use the minimize function to find the minimum\n",
        "result = minimize(rosenbrock_function, initial_guess, method=\"BFGS\")\n",
        "\n",
        "# Print the result\n",
        "print(\"Minimum value:\", result.fun)\n",
        "print(\"Optimal parameters:\", result.x)\n",
        "print(\"Number of iterations:\", result.nit)"
      ]
    },
    {
      "cell_type": "code",
      "execution_count": null,
      "metadata": {
        "colab": {
          "base_uri": "https://localhost:8080/"
        },
        "id": "ZM982bK70UHO",
        "outputId": "58523600-a1c6-4cd8-874d-4d574ad1f905"
      },
      "outputs": [
        {
          "output_type": "stream",
          "name": "stdout",
          "text": [
            "16.1 ms ± 1.21 ms per loop (mean ± std. dev. of 5 runs, 5 loops each)\n"
          ]
        }
      ],
      "source": [
        "%%timeit -n 5 -r 5\n",
        "with capture_output():  # suppress print statements\n",
        "    minimize(rosenbrock_function, initial_guess, method=\"BFGS\")"
      ]
    },
    {
      "cell_type": "markdown",
      "metadata": {
        "id": "oC3LO_zB0UHP"
      },
      "source": [
        "### Finding the optimum using imlemented methods"
      ]
    },
    {
      "cell_type": "markdown",
      "source": [
        "#### Flethcer reeves"
      ],
      "metadata": {
        "id": "h2vaLHSh1NRg"
      }
    },
    {
      "cell_type": "code",
      "execution_count": null,
      "metadata": {
        "colab": {
          "base_uri": "https://localhost:8080/"
        },
        "id": "vj2OPsHd0UHP",
        "outputId": "9bd1b206-a82c-4791-8243-0f6d88bb49ea"
      },
      "outputs": [
        {
          "output_type": "stream",
          "name": "stdout",
          "text": [
            "Finished in 7544 iterations\n",
            "Minimum of the function is at [0.99991057 0.99982093] with value 8.002046112392715e-09\n"
          ]
        }
      ],
      "source": [
        "x =solve_fletcher_reeves(\n",
        "    rosenbrock_function_gradient,\n",
        "    rosenbrock_function_hessian,\n",
        "    x0,\n",
        "    eps=1e-4,\n",
        ")\n",
        "\n",
        "value = rosenbrock_function(x)\n",
        "print(f\"Minimum of the function is at {x } with value {value  }\")"
      ]
    },
    {
      "cell_type": "code",
      "execution_count": null,
      "metadata": {
        "colab": {
          "base_uri": "https://localhost:8080/"
        },
        "id": "w5HuNnK-0UHP",
        "outputId": "f3fbac7c-97ea-4663-d108-9a914908ff2d"
      },
      "outputs": [
        {
          "output_type": "stream",
          "name": "stdout",
          "text": [
            "742 ms ± 227 ms per loop (mean ± std. dev. of 5 runs, 5 loops each)\n"
          ]
        }
      ],
      "source": [
        "%%timeit -n 5 -r 5\n",
        "with capture_output():  # suppress print statements\n",
        "    solve_fletcher_reeves(\n",
        "        rosenbrock_function_gradient,\n",
        "        rosenbrock_function_hessian,\n",
        "        x0,\n",
        "        eps=1e-4,\n",
        "    )\n"
      ]
    },
    {
      "cell_type": "markdown",
      "source": [
        "#### marquardt"
      ],
      "metadata": {
        "id": "rhNVGVr61Qhg"
      }
    },
    {
      "cell_type": "code",
      "execution_count": null,
      "metadata": {
        "colab": {
          "base_uri": "https://localhost:8080/"
        },
        "id": "dng7onFL0UHQ",
        "outputId": "eaac1ae8-49ca-4406-b29a-ab238069c075"
      },
      "outputs": [
        {
          "output_type": "stream",
          "name": "stdout",
          "text": [
            "Finished in 19 iterations\n",
            "Minimum of the function is at [1.00000236 1.00000472] with value 5.581148314101601e-12\n"
          ]
        }
      ],
      "source": [
        "x = solve_marquardt(\n",
        "    rosenbrock_function,\n",
        "    rosenbrock_function_gradient,\n",
        "    rosenbrock_function_hessian,\n",
        "    x0,\n",
        "    eps=1e-4,\n",
        "    method_1d=\"cubic\",\n",
        ")\n",
        "\n",
        "value = rosenbrock_function(x)\n",
        "print(f\"Minimum of the function is at {x } with value {value  }\")"
      ]
    },
    {
      "cell_type": "code",
      "execution_count": null,
      "metadata": {
        "colab": {
          "base_uri": "https://localhost:8080/"
        },
        "id": "Oshyj1gg0UHQ",
        "outputId": "48be69d3-4b01-4cba-cab2-d7ae6fb48948"
      },
      "outputs": [
        {
          "output_type": "stream",
          "name": "stdout",
          "text": [
            "58.3 ms ± 21.1 ms per loop (mean ± std. dev. of 5 runs, 5 loops each)\n"
          ]
        }
      ],
      "source": [
        "%%timeit -n 5 -r 5\n",
        "with capture_output():\n",
        "    solve_marquardt(\n",
        "    rosenbrock_function,\n",
        "    rosenbrock_function_gradient,\n",
        "    rosenbrock_function_hessian,\n",
        "    x0,\n",
        "    eps=1e-4,\n",
        "    method_1d=\"cubic\",\n",
        ")"
      ]
    },
    {
      "cell_type": "markdown",
      "source": [
        "#### quasi newton"
      ],
      "metadata": {
        "id": "P8yAkSEL1Uh9"
      }
    },
    {
      "cell_type": "code",
      "execution_count": null,
      "metadata": {
        "colab": {
          "base_uri": "https://localhost:8080/"
        },
        "id": "OR-4z9PX0UHR",
        "outputId": "d7556dd2-cbba-4727-fa21-f70675c9c81e"
      },
      "outputs": [
        {
          "output_type": "stream",
          "name": "stdout",
          "text": [
            "Finished in 22 iterations\n",
            "Minimum of the function is at [0.99958922 0.99918236] with value 1.7014934872000645e-07\n"
          ]
        }
      ],
      "source": [
        "x = solve_quasi_newton(\n",
        "    rosenbrock_function,\n",
        "    rosenbrock_function_gradient,\n",
        "    x0,\n",
        "    method_1d=\"quad\",\n",
        "    eps=1e-3,\n",
        ")\n",
        "\n",
        "value = rosenbrock_function(x)\n",
        "print(f\"Minimum of the function is at {x} with value {value  }\")"
      ]
    },
    {
      "cell_type": "code",
      "execution_count": null,
      "metadata": {
        "colab": {
          "base_uri": "https://localhost:8080/"
        },
        "id": "H8gUA6Us0UHR",
        "outputId": "caf5a345-83d2-43df-a3e5-121f0de7406c"
      },
      "outputs": [
        {
          "output_type": "stream",
          "name": "stdout",
          "text": [
            "13.4 ms ± 3.59 ms per loop (mean ± std. dev. of 5 runs, 5 loops each)\n"
          ]
        }
      ],
      "source": [
        "%%timeit -n 5 -r 5\n",
        "with capture_output():\n",
        "    solve_quasi_newton(\n",
        "    rosenbrock_function,\n",
        "    rosenbrock_function_gradient,\n",
        "    x0,\n",
        "    method_1d=\"quad\",\n",
        "    eps=1e-3,\n",
        ")"
      ]
    },
    {
      "cell_type": "markdown",
      "source": [
        "### Results\n",
        "\n",
        "| Method                       | Iterations | Runtime                 | x                                      | f(x)           |\n",
        "|------------------------------|------------|-------------------------|----------------------------------------|----------------|\n",
        "| **BFGS (Scipy)**              | 32         | 27.2 ms ± 4.96 ms       | [0.9999955, 0.99999099]                | 2.0243e-11     |\n",
        "| **Fletcher Reeves**           | 17144      | 537 ms ± 9.28 ms        | [0.99988823, 0.99977603]               | 1.2512542e-08  |\n",
        "| **Marquardt (Golden)**        | 24         | 14 ms ± 1.09 ms         | [0.99999999, 0.99999998]               | 1.5996e-16     |\n",
        "| **Marquardt (Fibonacci)**     | 24         | 14.7 ms ± 4.09 ms       | [0.99999999, 0.99999999]               | 1.7353e-16     |\n",
        "| **Marquardt (quadratic)**     | 21         | 12.1 ms ± 2.6 ms        | [0.99999959, 0.99999907]               | 1.297e-12      |\n",
        "| **Marquardt (cubic)**         | 19         | 22.4 ms ± 5.36 ms       | [1.00000236, 1.00000472]               | 5.5811e-12     |\n",
        "| **Quasi-Newton (Golden)**     | 526        | 247 ms ± 20.4 ms        | [0.99927916, 0.99855773]               | 5.1973e-07     |\n",
        "| **Quasi-Newton (Quadratic)**  | 277        | 121 ms ± 33.8 ms        | [1.00015339, 1.00031638]               | 3.269e-08      |\n"
      ],
      "metadata": {
        "id": "HlC1O5NX2v-F"
      }
    },
    {
      "cell_type": "markdown",
      "metadata": {
        "id": "umVh5oEy0UHS"
      },
      "source": [
        "## Powell's function\n",
        "\n",
        "Powell function:\n",
        "\\begin{align*}\n",
        "    \\text{powell_function}(x) &= (x_1 + 10x_2)^2 + 5(x_3 - x_4)^2 + (x_2 - 2x_3)^4 + 10(x_1 - x_4)^4\n",
        "\\end{align*}\n",
        "Gradient of Powell function:\n",
        "\\begin{align*}\n",
        "    \\nabla \\text{powell_function}(x) &= \\begin{bmatrix}\n",
        "        2(x_1 + 10x_2) + 40(x_1 - x_4)^3 \\\\\n",
        "        20(x_1 + 10x_2) + 4(x_2 - 2x_3)^3 \\\\\n",
        "        10(x_3 - x_4) - 8(x_2 - 2x_3)^3 \\\\\n",
        "        -10(x_3 - x_4) - 40(x_1 - x_4)^3\n",
        "    \\end{bmatrix}\n",
        "\\end{align*}\n",
        "\n",
        "Hessian of Powell function:\n",
        "\\begin{align*}\n",
        "    \\nabla^2 \\text{powell_function}(x) &= \\begin{bmatrix}\n",
        "        2 + 120(x_1 - x_4)^2 & 20 & 0 & -120(x_1 - x_4)^2 \\\\\n",
        "        20 & 200 + 12(x_2 - 2x_3)^2 & -24(x_2 - 2x_3)^2 & 0 \\\\\n",
        "        0 & -24(x_2 - 2x_3)^2 & 10 + 48(x_2 - 2x_3)^2 & -10 \\\\\n",
        "        -120(x_1 - x_4)^2 & 0 & -10 & 10 + 120(x_1 - x_4)^2\n",
        "    \\end{bmatrix}\n",
        "\\end{align*}\n",
        "\n",
        "Initial guess:\n",
        "\\begin{align*}\n",
        "    x_0 &= \\begin{bmatrix}\n",
        "        3.0 \\\\\n",
        "        -1.0 \\\\\n",
        "        0.0 \\\\\n",
        "        1.0\n",
        "    \\end{bmatrix}\n",
        "\\end{align*}"
      ]
    },
    {
      "cell_type": "code",
      "execution_count": null,
      "metadata": {
        "id": "Fyn6D7jD0UHS"
      },
      "outputs": [],
      "source": [
        "powell_function = (\n",
        "    lambda x: (x[0] + 10 * x[1]) ** 2\n",
        "    + 5 * (x[2] - x[3]) ** 2\n",
        "    + (x[1] - 2 * x[2]) ** 4\n",
        "    + 10 * (x[0] - x[3]) ** 4\n",
        ")\n",
        "\n",
        "# Gradient of Powell function\n",
        "gradient_powell_function = lambda x: np.array(\n",
        "    [\n",
        "        2 * (x[0] + 10 * x[1]) + 40 * (x[0] - x[3]) ** 3,\n",
        "        20 * (x[0] + 10 * x[1]) + 4 * (x[1] - 2 * x[2]) ** 3,\n",
        "        10 * (x[2] - x[3]) - 8 * (x[1] - 2 * x[2]) ** 3,\n",
        "        -10 * (x[2] - x[3]) - 40 * (x[0] - x[3]) ** 3,\n",
        "    ]\n",
        ")\n",
        "\n",
        "# Hessian of Powell function\n",
        "hessian_powell_function = lambda x: np.array(\n",
        "    [\n",
        "        [2 + 120 * (x[0] - x[3]) ** 2, 20, 0, -120 * (x[0] - x[3]) ** 2],\n",
        "        [20, 200 + 12 * (x[1] - 2 * x[2]) ** 2, -24 * (x[1] - 2 * x[2]) ** 2, 0],\n",
        "        [0, -24 * (x[1] - 2 * x[2]) ** 2, 10 + 48 * (x[1] - 2 * x[2]) ** 2, -10],\n",
        "        [-120 * (x[0] - x[3]) ** 2, 0, -10, 10 + 120 * (x[0] - x[3]) ** 2],\n",
        "    ]\n",
        ")\n",
        "\n",
        "x0 =  np.array((3.0, - 1.0, 0.0, 1.0))"
      ]
    },
    {
      "cell_type": "markdown",
      "metadata": {
        "id": "wmqUchWs0UHS"
      },
      "source": [
        "### Finding the optimum using scipy"
      ]
    },
    {
      "cell_type": "code",
      "execution_count": null,
      "metadata": {
        "colab": {
          "base_uri": "https://localhost:8080/"
        },
        "id": "BEsVjuC_0UHS",
        "outputId": "cc108e0a-87e9-438a-9527-d053d1f8b2ff"
      },
      "outputs": [
        {
          "output_type": "stream",
          "name": "stdout",
          "text": [
            "Minimum value: 4.337526732036312e-09\n",
            "Optimal parameters: [ 0.0058623  -0.00058624  0.00132846  0.00132817]\n",
            "Number of iterations: 35\n"
          ]
        }
      ],
      "source": [
        "powell_function = (\n",
        "    lambda x: (x[0] + 10 * x[1]) ** 2\n",
        "    + 5 * (x[2] - x[3]) ** 2\n",
        "    + (x[1] - 2 * x[2]) ** 4\n",
        "    + 10 * (x[0] - x[3]) ** 4\n",
        ")\n",
        "\n",
        "initial_guess = np.array((3.0, -1.0, 0.0, 1.0))\n",
        "\n",
        "result = minimize(powell_function, initial_guess, method=\"BFGS\")\n",
        "\n",
        "# Print the result\n",
        "print(\"Minimum value:\", result.fun)\n",
        "print(\"Optimal parameters:\", result.x)\n",
        "print(\"Number of iterations:\", result.nit)"
      ]
    },
    {
      "cell_type": "code",
      "execution_count": null,
      "metadata": {
        "colab": {
          "base_uri": "https://localhost:8080/"
        },
        "id": "yKNI8p-10UHT",
        "outputId": "6a2b3c2c-4865-4f2a-d574-922a7075f6b3"
      },
      "outputs": [
        {
          "output_type": "stream",
          "name": "stdout",
          "text": [
            "32.6 ms ± 9.97 ms per loop (mean ± std. dev. of 5 runs, 5 loops each)\n"
          ]
        }
      ],
      "source": [
        "%%timeit -n 5 -r 5\n",
        "with capture_output():  # suppress print statements\n",
        "    minimize(powell_function, initial_guess, method=\"BFGS\")"
      ]
    },
    {
      "cell_type": "markdown",
      "metadata": {
        "id": "4ju22PVE0UHT"
      },
      "source": [
        "### Finding the optimum using implemented methods"
      ]
    },
    {
      "cell_type": "markdown",
      "source": [
        "#### Fletcher reeves"
      ],
      "metadata": {
        "id": "2wIBiU3x1mfM"
      }
    },
    {
      "cell_type": "code",
      "execution_count": null,
      "metadata": {
        "colab": {
          "base_uri": "https://localhost:8080/"
        },
        "id": "zigsQgeT0UHg",
        "outputId": "8d4c3d2b-731b-47a5-d765-06857e82c6fa"
      },
      "outputs": [
        {
          "output_type": "stream",
          "name": "stdout",
          "text": [
            "Finished in 75145 iterations\n",
            "Minimum of the function is at [ 0.00523049 -0.00052304  0.00260661  0.00260672] with value 1.5567035443612935e-09\n"
          ]
        }
      ],
      "source": [
        "x = solve_fletcher_reeves(\n",
        "    gradient_powell_function,\n",
        "    hessian_powell_function,\n",
        "    x0,\n",
        "    eps=1e-6,\n",
        ")\n",
        "\n",
        "value = powell_function(x)\n",
        "print(f\"Minimum of the function is at {x } with value {value  }\")"
      ]
    },
    {
      "cell_type": "code",
      "execution_count": null,
      "metadata": {
        "colab": {
          "base_uri": "https://localhost:8080/"
        },
        "id": "HFoo-ZVY0UHg",
        "outputId": "029cc86d-3ac4-4305-f23f-1064cb484b26"
      },
      "outputs": [
        {
          "output_type": "stream",
          "name": "stdout",
          "text": [
            "3.63 s ± 249 ms per loop (mean ± std. dev. of 5 runs, 5 loops each)\n"
          ]
        }
      ],
      "source": [
        "%%timeit -n 5 -r 5\n",
        "with capture_output():\n",
        "    solve_fletcher_reeves(\n",
        "    gradient_powell_function,\n",
        "    hessian_powell_function,\n",
        "    x0,\n",
        "    eps=1e-6,\n",
        ")"
      ]
    },
    {
      "cell_type": "markdown",
      "source": [
        "#### marquardt"
      ],
      "metadata": {
        "id": "rfKUZ-gr1p5s"
      }
    },
    {
      "cell_type": "code",
      "execution_count": null,
      "metadata": {
        "colab": {
          "base_uri": "https://localhost:8080/"
        },
        "id": "-GEwMZkq0UHh",
        "outputId": "f36bc1b9-88a3-447f-9c96-95a91ebe1bfc"
      },
      "outputs": [
        {
          "output_type": "stream",
          "name": "stdout",
          "text": [
            "Finished in 29 iterations\n",
            "Minimum of the function is at [ 0.00144231 -0.00014423  0.00071879  0.00071879] with value 9.002591421872527e-12\n"
          ]
        }
      ],
      "source": [
        "x = solve_marquardt(\n",
        "    powell_function,\n",
        "    gradient_powell_function,\n",
        "    hessian_powell_function,\n",
        "    x0,\n",
        "    eps=1e-6,\n",
        "    method_1d=\"cubic\",\n",
        ")\n",
        "\n",
        "value = powell_function(x)\n",
        "print(f\"Minimum of the function is at {x } with value {value  }\")"
      ]
    },
    {
      "cell_type": "code",
      "execution_count": null,
      "metadata": {
        "colab": {
          "base_uri": "https://localhost:8080/"
        },
        "id": "fZLYzShU0UHi",
        "outputId": "30a9fa6e-b6dc-4198-d894-5f6c4a996588"
      },
      "outputs": [
        {
          "output_type": "stream",
          "name": "stdout",
          "text": [
            "35.5 ms ± 3.13 ms per loop (mean ± std. dev. of 5 runs, 5 loops each)\n"
          ]
        }
      ],
      "source": [
        "%%timeit -n 5 -r 5\n",
        "with capture_output():\n",
        "    solve_marquardt(\n",
        "    powell_function,\n",
        "    gradient_powell_function,\n",
        "    hessian_powell_function,\n",
        "    x0,\n",
        "    eps=1e-6,\n",
        "    method_1d=\"golden\",\n",
        ")"
      ]
    },
    {
      "cell_type": "markdown",
      "source": [
        "#### quasi newton"
      ],
      "metadata": {
        "id": "r_OKiWf61si7"
      }
    },
    {
      "cell_type": "code",
      "execution_count": null,
      "metadata": {
        "colab": {
          "base_uri": "https://localhost:8080/"
        },
        "id": "IEuZQMFf0UHi",
        "outputId": "a9f952d3-940a-4d41-e8ad-a23b57e8a351"
      },
      "outputs": [
        {
          "output_type": "stream",
          "name": "stdout",
          "text": [
            "Finished in 14 iterations\n",
            "Minimum of the function is at [ 5.81225540e-04 -5.80889936e-05  1.58060774e-04  1.58024521e-04] with value 4.595756718768112e-13\n"
          ]
        }
      ],
      "source": [
        "x = solve_quasi_newton(\n",
        "    powell_function,\n",
        "    gradient_powell_function,\n",
        "    x0,\n",
        "    method_1d=\"quad\",\n",
        "    eps=1e-6,\n",
        ")\n",
        "\n",
        "value = powell_function(x)\n",
        "print(f\"Minimum of the function is at {x } with value {value  }\")"
      ]
    },
    {
      "cell_type": "code",
      "execution_count": null,
      "metadata": {
        "colab": {
          "base_uri": "https://localhost:8080/"
        },
        "id": "XmsXcewd0UHi",
        "outputId": "aa6d0259-a485-44f7-e928-ed56dba350fb"
      },
      "outputs": [
        {
          "output_type": "stream",
          "name": "stdout",
          "text": [
            "6.71 ms ± 1.65 ms per loop (mean ± std. dev. of 5 runs, 5 loops each)\n"
          ]
        }
      ],
      "source": [
        "%%timeit -n 5 -r 5\n",
        "with capture_output():\n",
        "    solve_quasi_newton(\n",
        "    powell_function,\n",
        "    gradient_powell_function,\n",
        "    x0,\n",
        "    method_1d=\"quad\",\n",
        "    eps=1e-6,\n",
        ")"
      ]
    },
    {
      "cell_type": "markdown",
      "source": [
        "### Results\n",
        "\n",
        "| Method                     | Iterations | Runtime               | x                               | f(x)           |\n",
        "|-----------------------------|------------|-----------------------|---------------------------------|----------------|\n",
        "| **BFGS (Scipy)**            | 35         | 31.2 ms ± 9.07 ms     | [0.0058, -0.0006, 0.0013, 0.0013] | 4.337e-09      |\n",
        "| **Fletcher Reeves**         | 335219     | 13.3 s ± 498 ms       | [0.0052, -0.0005, 0.0026, 0.0026] | 1.538e-09      |\n",
        "| **Marquardt (Golden)**      | 34         | 26 ms ± 2.77 ms       | [0.0002, -0.0000, 0.0001, 0.0001] | 6.5377e-15     |\n",
        "| **Marquardt (Quadratic)**   | 34         | 13.7 ms ± 1.53 ms     | [0.0002, -0.0000, 0.0001, 0.0001] | 6.5786e-15     |\n",
        "| **Quasi-Newton (Golden)**   | 1953       | 700 ms ± 61.4 ms      | [0.0016, -0.0002, 0.0013, 0.0013] | 5.084e-11      |\n",
        "| **Quasi-Newton (Fibonacci)** | 1580       | 569 ms ± 54.5 ms      | [0.0043, -0.0004, 0.0016, 0.0016] | 7.2483e-10     |\n",
        "| **Quasi-Newton (Quadratic)** | 948       | 277 ms ± 40.5 ms      | [-0.0005, 0.0001, 0.0017, 0.0017] | 3.6659e-10     |\n"
      ],
      "metadata": {
        "id": "EKlO5HVI2AIt"
      }
    }
  ],
  "metadata": {
    "kernelspec": {
      "display_name": "Python 3",
      "language": "python",
      "name": "python3"
    },
    "language_info": {
      "codemirror_mode": {
        "name": "ipython",
        "version": 3
      },
      "file_extension": ".py",
      "mimetype": "text/x-python",
      "name": "python",
      "nbconvert_exporter": "python",
      "pygments_lexer": "ipython3",
      "version": "3.11.5"
    },
    "colab": {
      "provenance": []
    }
  },
  "nbformat": 4,
  "nbformat_minor": 0
}